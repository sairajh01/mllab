{
 "cells": [
  {
   "cell_type": "code",
   "execution_count": 1,
   "id": "041e02de",
   "metadata": {},
   "outputs": [],
   "source": [
    "import numpy as npp"
   ]
  },
  {
   "cell_type": "code",
   "execution_count": 2,
   "id": "ea15098a",
   "metadata": {},
   "outputs": [
    {
     "data": {
      "text/plain": [
       "'1.24.3'"
      ]
     },
     "execution_count": 2,
     "metadata": {},
     "output_type": "execute_result"
    }
   ],
   "source": [
    "npp.__version__"
   ]
  },
  {
   "cell_type": "code",
   "execution_count": 3,
   "id": "2e7f96bd",
   "metadata": {},
   "outputs": [],
   "source": [
    "import pandas as pp"
   ]
  },
  {
   "cell_type": "code",
   "execution_count": 4,
   "id": "f79fed1e",
   "metadata": {},
   "outputs": [
    {
     "data": {
      "text/plain": [
       "'1.5.3'"
      ]
     },
     "execution_count": 4,
     "metadata": {},
     "output_type": "execute_result"
    }
   ],
   "source": [
    "pp.__version__"
   ]
  },
  {
   "cell_type": "code",
   "execution_count": 6,
   "id": "af11d407",
   "metadata": {},
   "outputs": [
    {
     "data": {
      "text/plain": [
       "array([1, 2, 3])"
      ]
     },
     "execution_count": 6,
     "metadata": {},
     "output_type": "execute_result"
    }
   ],
   "source": [
    "arr=npp.array([1,2,3])\n",
    "arr"
   ]
  },
  {
   "cell_type": "code",
   "execution_count": 7,
   "id": "19efabd8",
   "metadata": {},
   "outputs": [
    {
     "data": {
      "text/plain": [
       "numpy.ndarray"
      ]
     },
     "execution_count": 7,
     "metadata": {},
     "output_type": "execute_result"
    }
   ],
   "source": [
    "type(arr)"
   ]
  },
  {
   "cell_type": "code",
   "execution_count": 8,
   "id": "f74771ec",
   "metadata": {},
   "outputs": [
    {
     "data": {
      "text/plain": [
       "array([[1, 2],\n",
       "       [3, 4]])"
      ]
     },
     "execution_count": 8,
     "metadata": {},
     "output_type": "execute_result"
    }
   ],
   "source": [
    "arr2=npp.array([[1,2],[3,4]])\n",
    "arr2"
   ]
  },
  {
   "cell_type": "code",
   "execution_count": 9,
   "id": "31419985",
   "metadata": {},
   "outputs": [],
   "source": [
    "del npp"
   ]
  },
  {
   "cell_type": "code",
   "execution_count": 10,
   "id": "c1ccc558",
   "metadata": {},
   "outputs": [
    {
     "ename": "NameError",
     "evalue": "name 'npp' is not defined",
     "output_type": "error",
     "traceback": [
      "\u001b[1;31m---------------------------------------------------------------------------\u001b[0m",
      "\u001b[1;31mNameError\u001b[0m                                 Traceback (most recent call last)",
      "Cell \u001b[1;32mIn[10], line 1\u001b[0m\n\u001b[1;32m----> 1\u001b[0m arr2\u001b[38;5;241m=\u001b[39mnpp\u001b[38;5;241m.\u001b[39marray([[\u001b[38;5;241m1\u001b[39m,\u001b[38;5;241m2\u001b[39m],[\u001b[38;5;241m3\u001b[39m,\u001b[38;5;241m4\u001b[39m]])\n\u001b[0;32m      2\u001b[0m arr2\n",
      "\u001b[1;31mNameError\u001b[0m: name 'npp' is not defined"
     ]
    }
   ],
   "source": [
    "arr2=npp.array([[1,2],[3,4]])\n",
    "arr2"
   ]
  },
  {
   "cell_type": "code",
   "execution_count": 11,
   "id": "3ce8b8ba",
   "metadata": {},
   "outputs": [
    {
     "ename": "NameError",
     "evalue": "name 'npp' is not defined",
     "output_type": "error",
     "traceback": [
      "\u001b[1;31m---------------------------------------------------------------------------\u001b[0m",
      "\u001b[1;31mNameError\u001b[0m                                 Traceback (most recent call last)",
      "Cell \u001b[1;32mIn[11], line 1\u001b[0m\n\u001b[1;32m----> 1\u001b[0m npp\u001b[38;5;241m.\u001b[39m__version__\n",
      "\u001b[1;31mNameError\u001b[0m: name 'npp' is not defined"
     ]
    }
   ],
   "source": [
    "npp.__version__"
   ]
  },
  {
   "cell_type": "code",
   "execution_count": 12,
   "id": "31aadd95",
   "metadata": {},
   "outputs": [],
   "source": [
    "import numpy as np"
   ]
  },
  {
   "cell_type": "code",
   "execution_count": 13,
   "id": "e48e0bb0",
   "metadata": {},
   "outputs": [
    {
     "data": {
      "text/plain": [
       "array([[[ 1,  2,  3],\n",
       "        [ 4,  5,  6],\n",
       "        [ 7,  8,  9]],\n",
       "\n",
       "       [[10, 11, 12],\n",
       "        [13, 14, 15],\n",
       "        [16, 17, 18]]])"
      ]
     },
     "execution_count": 13,
     "metadata": {},
     "output_type": "execute_result"
    }
   ],
   "source": [
    "arr3d=np.array([[[1,2,3],[4,5,6],[7,8,9]],[[10,11,12],[13,14,15],[16,17,18]]])\n",
    "arr3d"
   ]
  },
  {
   "cell_type": "code",
   "execution_count": 16,
   "id": "a07d7e65",
   "metadata": {},
   "outputs": [],
   "source": [
    "#a 4d array has 4 parameters where\n",
    "#a--> no. of blocks\n",
    "#b-->in each block how many rows\n",
    "#c-->in each row how many cols\n",
    "#d-->in each col how many elements\n",
    "array4d=np.array([\n",
    "                [\n",
    "                    [\n",
    "                        [1,2],\n",
    "                        [3,4],\n",
    "                        [5,6]\n",
    "                    ],\n",
    "                    [\n",
    "                        [7,8],\n",
    "                        [9,10],\n",
    "                        [11,12]\n",
    "                    ],\n",
    "                    [\n",
    "                        [13,14],\n",
    "                        [15,16],\n",
    "                        [17,18]\n",
    "                    ]\n",
    "                ],\n",
    "                [\n",
    "                    [\n",
    "                        [19,20],\n",
    "                        [21,22],\n",
    "                        [23,24]\n",
    "                    ],\n",
    "                    [\n",
    "                        [25,26],\n",
    "                        [27,28],\n",
    "                        [29,30]\n",
    "                    ],\n",
    "                    [\n",
    "                        [31,32],\n",
    "                        [33,34],\n",
    "                        [35,36]\n",
    "                    ]\n",
    "                ]\n",
    "])"
   ]
  },
  {
   "cell_type": "code",
   "execution_count": 18,
   "id": "94badc17",
   "metadata": {},
   "outputs": [
    {
     "data": {
      "text/plain": [
       "array([[[[ 1,  2],\n",
       "         [ 3,  4],\n",
       "         [ 5,  6]],\n",
       "\n",
       "        [[ 7,  8],\n",
       "         [ 9, 10],\n",
       "         [11, 12]],\n",
       "\n",
       "        [[13, 14],\n",
       "         [15, 16],\n",
       "         [17, 18]]],\n",
       "\n",
       "\n",
       "       [[[19, 20],\n",
       "         [21, 22],\n",
       "         [23, 24]],\n",
       "\n",
       "        [[25, 26],\n",
       "         [27, 28],\n",
       "         [29, 30]],\n",
       "\n",
       "        [[31, 32],\n",
       "         [33, 34],\n",
       "         [35, 36]]]])"
      ]
     },
     "execution_count": 18,
     "metadata": {},
     "output_type": "execute_result"
    }
   ],
   "source": [
    "array4d"
   ]
  },
  {
   "cell_type": "code",
   "execution_count": null,
   "id": "1d098f97",
   "metadata": {},
   "outputs": [],
   "source": []
  }
 ],
 "metadata": {
  "kernelspec": {
   "display_name": "Python 3 (ipykernel)",
   "language": "python",
   "name": "python3"
  },
  "language_info": {
   "codemirror_mode": {
    "name": "ipython",
    "version": 3
   },
   "file_extension": ".py",
   "mimetype": "text/x-python",
   "name": "python",
   "nbconvert_exporter": "python",
   "pygments_lexer": "ipython3",
   "version": "3.11.4"
  }
 },
 "nbformat": 4,
 "nbformat_minor": 5
}
